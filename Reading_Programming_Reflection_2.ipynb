{
  "nbformat": 4,
  "nbformat_minor": 0,
  "metadata": {
    "colab": {
      "provenance": [],
      "authorship_tag": "ABX9TyPdXcpxRZAb6bODvG24TImK",
      "include_colab_link": true
    },
    "kernelspec": {
      "name": "python3",
      "display_name": "Python 3"
    },
    "language_info": {
      "name": "python"
    }
  },
  "cells": [
    {
      "cell_type": "markdown",
      "metadata": {
        "id": "view-in-github",
        "colab_type": "text"
      },
      "source": [
        "<a href=\"https://colab.research.google.com/github/the-Jabberwocky/Blackjack/blob/main/Reading_Programming_Reflection_2.ipynb\" target=\"_parent\"><img src=\"https://colab.research.google.com/assets/colab-badge.svg\" alt=\"Open In Colab\"/></a>"
      ]
    },
    {
      "cell_type": "markdown",
      "source": [
        "# Instructions:\n",
        "\n",
        "Reflect on the hands on session that we had on Introduction to Python programming.\n",
        "\n",
        "You would need to formulate a problem statement that intends to use (a) **Control Structure** (b) **Functions** and (c) **Basic variables**\n",
        "\n",
        "For example, \"write a program that accepts a list of numbers and outputs the square of the numbers\".\n",
        "\n",
        "Please follow the instructions below:\n",
        "\n",
        "[1] The program must be written on a Jupiter notebook. You would need to upload the ipynb file.  \n",
        "\n",
        "[2] Write your question in a markdown /text cell\n",
        "\n",
        "[3] Explain your code in a markdown /text cell\n",
        "\n",
        "[4] Write your code in a single code-block and print the output by running the code-block.\n"
      ],
      "metadata": {
        "id": "8cWGr-F4a_rt"
      }
    },
    {
      "cell_type": "markdown",
      "source": [
        "# My Question/Problem:\n",
        "Create a basic sample blackjack game\n",
        "\n"
      ],
      "metadata": {
        "id": "pFrsWxtnbjRH"
      }
    },
    {
      "cell_type": "code",
      "source": [
        "import random  # needed to 'shuffle' cards\n",
        "\n",
        "## Identify categories of Cards\n",
        "faces = [\"Ace\",\"King\",\"Queen\",\"Jack\"]\n",
        "numbers = [2,3,4,5,6,7,8,9,10]\n",
        "suits = [\"Hearts\",\"Diamonds\",\"Spades\",\"Clubs\"]\n",
        "\n",
        "deck = []  # Where cards will be stored\n",
        "\n",
        "## Add cards to deck\n",
        "for suit in suits:\n",
        "  for face in faces:\n",
        "    deck.append(face + \" of \" +suit)\n",
        "  for nums in numbers:\n",
        "    deck.append (str(nums) + \" of \" + suit)\n",
        "\n",
        "## Initialize necessary global variables\n",
        "play_deck = deck # dealer starts with a full deck\n",
        "player_hand = []  # Player's hand\n",
        "player_score = [0]  # Numerical worth of player hand\n",
        "dealer_hand = []\n",
        "dealer_score = 0\n",
        "\n",
        "## function for drawing cards\n",
        "def draw_cards(number,character):\n",
        "  '''\n",
        "    Input:\n",
        "        [1] number of cards to draw, type <'int'>\n",
        "    Output:\n",
        "        None\n",
        "    '''\n",
        "  draw = random.sample(play_deck,number)\n",
        "  if (character == \"player\"):\n",
        "    hand = player_hand\n",
        "  else:\n",
        "    hand = dealer_hand\n",
        "\n",
        "  for card in draw:\n",
        "    play_deck.remove(card)\n",
        "    hand.append(card)\n",
        "    if (character == \"player\"):\n",
        "      print(f\"You drew a {card}\")\n",
        "\n",
        "## function for assessing score\n",
        "def assess_score(character):\n",
        "  '''\n",
        "    Input:\n",
        "        [1] number of cards to draw, type <'int'>\n",
        "    Output:\n",
        "        Score\n",
        "    '''\n",
        "  if (character == \"player\"):\n",
        "    hand = player_hand\n",
        "    score = player_score\n",
        "  else:\n",
        "    hand = dealer_hand\n",
        "    score = dealer_score\n",
        "  for card in hand:\n",
        "    components = card.rsplit(\" \")\n",
        "    value = components[0]\n",
        "    if value.isdigit():\n",
        "      score = [values + int(value) for values in score]\n",
        "    elif (value == \"Ace\"):\n",
        "      if (character == \"player\"):\n",
        "        scores_add_one = [values + 1 for values in score]\n",
        "        scores_add_eleven = [values + 11 for values in score]\n",
        "        score = scores_add_one + scores_add_eleven\n",
        "      else:\n",
        "        score = [values + 11 for values in score]\n",
        "    else:\n",
        "      score = [values + 10 for values in score]\n",
        "\n",
        "  return score\n",
        "\n",
        "def check_bust(character):\n",
        "  if (character == \"player\"):\n",
        "    score = player_score\n",
        "  else:\n",
        "    score = dealer_score\n",
        "  if (score > 21):\n",
        "    print(f\"{character}  has gone bust\")\n",
        "\n",
        "\n",
        "def play_turn():\n",
        "  print(f\"{dealer_hand[1]} is face up in the dealer's hand\")\n",
        "  player_score =  assess_score(\"player\")\n",
        "  print(f\"Your current score is {player_score}\")\n",
        "  turn = input(\"Hit or Stand?\")\n",
        "  if (turn == \"Hit\" or \"hit\"):\n",
        "    draw_cards(1,\"player\")\n",
        "    play_turn()\n",
        "\n",
        "\n",
        "def play_game():\n",
        "  # Begin Game\n",
        "  play_deck = deck # dealer starts with a full deck\n",
        "  player_hand = []  # Player's hand\n",
        "  player_score = [0]  # Numerical worth of player hand\n",
        "  dealer_hand = []\n",
        "  dealer_score = [0]\n",
        "  draw_cards(2,\"dealer\")\n",
        "  draw_cards(2,\"player\")\n",
        "  play_turn()\n",
        "\n",
        "\n",
        "\n",
        "\n",
        "play_game()"
      ],
      "metadata": {
        "colab": {
          "base_uri": "https://localhost:8080/"
        },
        "id": "Bl7nZY9BeRiv",
        "outputId": "1ebb241a-c366-42dc-bdee-dcd346e2fb2d"
      },
      "execution_count": null,
      "outputs": [
        {
          "output_type": "stream",
          "name": "stdout",
          "text": [
            "You drew a 2 of Diamonds\n",
            "You drew a 7 of Diamonds\n",
            "2 of Clubs is face up in the dealer's hand\n",
            "Your current score is [9]\n",
            "Hit or Stand?hit\n",
            "You drew a Jack of Hearts\n",
            "2 of Clubs is face up in the dealer's hand\n",
            "Your current score is [19]\n",
            "Hit or Stand?hit\n",
            "You drew a Ace of Diamonds\n",
            "2 of Clubs is face up in the dealer's hand\n",
            "Your current score is [20, 30]\n"
          ]
        }
      ]
    }
  ]
}