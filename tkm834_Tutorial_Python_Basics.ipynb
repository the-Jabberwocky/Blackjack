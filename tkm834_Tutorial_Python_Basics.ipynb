{
  "cells": [
    {
      "cell_type": "markdown",
      "metadata": {
        "id": "view-in-github",
        "colab_type": "text"
      },
      "source": [
        "<a href=\"https://colab.research.google.com/github/the-Jabberwocky/Blackjack/blob/main/tkm834_Tutorial_Python_Basics.ipynb\" target=\"_parent\"><img src=\"https://colab.research.google.com/assets/colab-badge.svg\" alt=\"Open In Colab\"/></a>"
      ]
    },
    {
      "cell_type": "markdown",
      "id": "423acf2b",
      "metadata": {
        "id": "423acf2b"
      },
      "source": [
        "# Python Basics + Exercises"
      ]
    },
    {
      "cell_type": "markdown",
      "id": "eb9404cc",
      "metadata": {
        "id": "eb9404cc"
      },
      "source": [
        "*Note: This lab session is graded. Complete all the exercises and submit the ipynb to canvas under assignment **Tutorial: Python Programming Basics** by **no later than end of today 01/26/2023, 11:59PM**. Tutorials are meant to be complete in class.\n",
        "\n",
        "## 1. What is Python\n",
        "- A programming language\n",
        "- **Programming = Instructing computers to compute**\n",
        "- Considered as a \"scripting language\", but is much more\n",
        "\n",
        "## 2. History of Python\n",
        "- Invented by Guido van Rossum in the Netherlands (early 90s)\n",
        "- Open sourced from the beginning\n",
        "- Used in the industry (e.g., Google) from the beginning\n",
        "- Popular and miles ahead for data-science / ML of other languages\n",
        "\n",
        "## IMPORTANT: Always go through : https://docs.python.org/3/tutorial/index.html\n",
        "\n",
        "### Good reference : DataCamp: Introduction to Python: https://www.datacamp.com/courses/intro-to-python-for-data-science\n"
      ]
    },
    {
      "cell_type": "markdown",
      "id": "84df597c",
      "metadata": {
        "id": "84df597c"
      },
      "source": [
        "## 3. Jupyter Cells\n",
        "- Code Cells: For writing program snippets\n",
        "- Markdown Cells: For reporting, commenting, formatting content"
      ]
    },
    {
      "cell_type": "markdown",
      "id": "16eda5fb",
      "metadata": {
        "id": "16eda5fb"
      },
      "source": [
        "# Programming: Instructing to Compute , Variables: Store Data\n",
        "\n",
        "- One\n",
        "- Two\n",
        "- Three"
      ]
    },
    {
      "cell_type": "code",
      "execution_count": null,
      "id": "0c1ddb60",
      "metadata": {
        "id": "0c1ddb60",
        "outputId": "cc1becfe-af87-421b-ea0a-417f5584aaee",
        "colab": {
          "base_uri": "https://localhost:8080/"
        }
      },
      "outputs": [
        {
          "output_type": "stream",
          "name": "stdout",
          "text": [
            "25.0\n"
          ]
        }
      ],
      "source": [
        "print (100/4)"
      ]
    },
    {
      "cell_type": "markdown",
      "id": "e8d0279f",
      "metadata": {
        "id": "e8d0279f"
      },
      "source": [
        "- We often need to perform a series of computation. So, we must to store the data and resue\n",
        "- Data is stored in memory (RAM) through VARIABLES"
      ]
    },
    {
      "cell_type": "code",
      "execution_count": null,
      "id": "62abb7c1",
      "metadata": {
        "scrolled": true,
        "id": "62abb7c1",
        "outputId": "a0973af0-f928-41d2-c6f6-c59e77c09bf5",
        "colab": {
          "base_uri": "https://localhost:8080/"
        }
      },
      "outputs": [
        {
          "output_type": "stream",
          "name": "stdout",
          "text": [
            "25.0\n",
            "30\n"
          ]
        }
      ],
      "source": [
        "x = 100/4\n",
        "print (x)\n",
        "\n",
        "x = 30\n",
        "print(x)\n"
      ]
    },
    {
      "cell_type": "code",
      "execution_count": null,
      "id": "45e62d6e",
      "metadata": {
        "id": "45e62d6e",
        "outputId": "32f4a134-e2e5-47fc-ec87-a5e9dcee2007",
        "colab": {
          "base_uri": "https://localhost:8080/"
        }
      },
      "outputs": [
        {
          "output_type": "stream",
          "name": "stdout",
          "text": [
            "33\n"
          ]
        }
      ],
      "source": [
        "y = x +3\n",
        "print (y)"
      ]
    },
    {
      "cell_type": "code",
      "execution_count": null,
      "id": "bc68c526",
      "metadata": {
        "id": "bc68c526",
        "outputId": "5df0db05-786a-4153-9dcb-0191225cf918",
        "colab": {
          "base_uri": "https://localhost:8080/"
        }
      },
      "outputs": [
        {
          "output_type": "stream",
          "name": "stdout",
          "text": [
            "990\n"
          ]
        }
      ],
      "source": [
        "z = y*x\n",
        "print (z)"
      ]
    },
    {
      "cell_type": "markdown",
      "id": "e2661f89",
      "metadata": {
        "id": "e2661f89"
      },
      "source": [
        "- We can override variables already defined. BE CAREFUL when you override, it can wipe out data\n"
      ]
    },
    {
      "cell_type": "code",
      "execution_count": null,
      "id": "ef2ee332",
      "metadata": {
        "id": "ef2ee332",
        "outputId": "2ef0ac2f-6aef-44dc-f5f0-882160035828",
        "colab": {
          "base_uri": "https://localhost:8080/"
        }
      },
      "outputs": [
        {
          "output_type": "stream",
          "name": "stdout",
          "text": [
            "30\n",
            "30\n"
          ]
        }
      ],
      "source": [
        "print (x)\n",
        "x = 30\n",
        "print(x)"
      ]
    },
    {
      "cell_type": "markdown",
      "id": "30d9a17d",
      "metadata": {
        "id": "30d9a17d"
      },
      "source": [
        "- Printing messages and data within the program"
      ]
    },
    {
      "cell_type": "code",
      "execution_count": null,
      "id": "eb4e7dfa",
      "metadata": {
        "id": "eb4e7dfa",
        "outputId": "5248dd8a-2636-4832-f02c-8c6b1a88345b",
        "colab": {
          "base_uri": "https://localhost:8080/"
        }
      },
      "outputs": [
        {
          "output_type": "stream",
          "name": "stdout",
          "text": [
            "We are going to print the value of x\n",
            "The value of x is 30\n"
          ]
        }
      ],
      "source": [
        "x = 30\n",
        "print (\"We are going to print the value of x\")\n",
        "print (f\"The value of x is {x}\")"
      ]
    },
    {
      "cell_type": "markdown",
      "id": "a997c126",
      "metadata": {
        "id": "a997c126"
      },
      "source": [
        "## 5. Basic variable types (a.k.a data types)\n",
        "- Integer (0, +ve, -ve numbers)\n",
        "- Float (decimal)\n",
        "- String (text)\n",
        "- Boolean (True/False)"
      ]
    },
    {
      "cell_type": "code",
      "execution_count": null,
      "id": "a75b3a56",
      "metadata": {
        "scrolled": true,
        "id": "a75b3a56",
        "outputId": "49012913-3e30-40fc-cb5e-cc8553bdd4d2",
        "colab": {
          "base_uri": "https://localhost:8080/"
        }
      },
      "outputs": [
        {
          "output_type": "stream",
          "name": "stdout",
          "text": [
            "x is of type <class 'int'>\n",
            "x is of type <class 'int'>\n",
            "x is of type <class 'float'>\n",
            "x is of type <class 'str'>\n",
            "x is of type <class 'bool'>\n"
          ]
        }
      ],
      "source": [
        "x = 100\n",
        "print (f\"x is of type {type(x)}\")\n",
        "\n",
        "x = -9\n",
        "print (f\"x is of type {type(x)}\")\n",
        "\n",
        "x = 20.3\n",
        "print (f\"x is of type {type(x)}\")\n",
        "\n",
        "x = \"Hello world\"\n",
        "print (f\"x is of type {type(x)}\")\n",
        "\n",
        "x = True\n",
        "print (f\"x is of type {type(x)}\")"
      ]
    },
    {
      "cell_type": "markdown",
      "id": "e729c8d4",
      "metadata": {
        "id": "e729c8d4"
      },
      "source": [
        "### E0. Exercise: what type of variable needed?\n",
        "- Scenario 1: Storing population of a country\n",
        "- Scenario 2: Storing a warning to be displayed on canvas when a student does not complete their assignment\n",
        "- Scenario 3: Storing your decision to go to a restaurant or not\n",
        "- Scenario 4: Storing a warning to be displayed when a webpage does not load\n",
        "- Scenario 5: Storing per-capita income for a state"
      ]
    },
    {
      "cell_type": "markdown",
      "source": [
        "Scenario1: int  \n",
        "Scenario2: string  \n",
        "Scenario3: boolean  \n",
        "Scenario4: string  \n",
        "Scenario5: float  "
      ],
      "metadata": {
        "id": "fXXLRpdKX-Vc"
      },
      "id": "fXXLRpdKX-Vc"
    },
    {
      "cell_type": "code",
      "source": [],
      "metadata": {
        "id": "VTXbdWhpX8L6"
      },
      "id": "VTXbdWhpX8L6",
      "execution_count": null,
      "outputs": []
    },
    {
      "cell_type": "markdown",
      "id": "e48f4a20",
      "metadata": {
        "id": "e48f4a20"
      },
      "source": [
        "### 6. Imporant: Variable declaration\n",
        "- Keep the names of variables intuitive and easy to read\n",
        "- Use \"multiword\" variables whenever possible\n",
        "- Separate words in a multiword variable with \"\\_\" (underscore) sign"
      ]
    },
    {
      "cell_type": "markdown",
      "id": "70c4da0d",
      "metadata": {
        "id": "70c4da0d"
      },
      "source": [
        "### 7. Example: Ideal Gas Law\n",
        "\n",
        "**Pressure = (Gas constant \\* temperature) / volume**"
      ]
    },
    {
      "cell_type": "code",
      "execution_count": null,
      "id": "8febdb10",
      "metadata": {
        "id": "8febdb10",
        "outputId": "515faadd-c3de-45df-a679-6ed678393b24",
        "colab": {
          "base_uri": "https://localhost:8080/"
        }
      },
      "outputs": [
        {
          "output_type": "stream",
          "name": "stdout",
          "text": [
            "The pressure is 38.0875\n"
          ]
        }
      ],
      "source": [
        "x = 55 # does not convey what x is\n",
        "\n",
        "temperature = 55\n",
        "volume = 12\n",
        "gas_constant = 8.31\n",
        "\n",
        "pressure = (gas_constant*temperature)/volume\n",
        "print (f\"The pressure is {pressure}\")"
      ]
    },
    {
      "cell_type": "markdown",
      "id": "19d865d8",
      "metadata": {
        "id": "19d865d8"
      },
      "source": [
        "### E2. Exercise: Calculate the area of a circle whose radius is 5cm"
      ]
    },
    {
      "cell_type": "markdown",
      "id": "b65b5017",
      "metadata": {
        "id": "b65b5017"
      },
      "source": [
        "### 8. Functions\n",
        "- Imagine if you have to compute the pressure values for 100 different <temperature,volume> inputs\n",
        "- Copying and editing the above code 100 times is not a good idea\n",
        "- Like variables functions ensure reusability - *reusing operations*\n",
        "- **Fuctions:**\n",
        "    1. Are block of code which only runs when it is called.\n",
        "    2. You can pass data, known as parameters, into a function.\n",
        "    3. A function can optionally return a result\n",
        "- In python: keyword \"def\" defines a function\n",
        "- Indent the internal block\n",
        "\n"
      ]
    },
    {
      "cell_type": "code",
      "execution_count": null,
      "id": "26a3f850",
      "metadata": {
        "id": "26a3f850"
      },
      "outputs": [],
      "source": [
        "def calculate_pressure (temperature, volume):\n",
        "    '''\n",
        "    Inputs:\n",
        "        [1] temperatue, type <'int'>\n",
        "        [2] volume, type <float>\n",
        "    Output:\n",
        "        [1] pressure, type <'float'>\n",
        "    '''\n",
        "    gas_constant = 8.31\n",
        "    pressure = (gas_constant*temperature)/volume\n",
        "    return pressure\n",
        "\n",
        "def calculate_pressure_and_print (temperature, volume):\n",
        "    '''\n",
        "    Inputs:\n",
        "        [1] temperatue, type <'int'>\n",
        "        [2] volume, type <float>\n",
        "    Output:\n",
        "        None\n",
        "    '''\n",
        "    gas_constant = 8.31\n",
        "    pressure = (gas_constant*temperature)/volume\n",
        "    print(f\"The pressure is {pressure}\")"
      ]
    },
    {
      "cell_type": "markdown",
      "id": "4023a52d",
      "metadata": {
        "id": "4023a52d"
      },
      "source": [
        "**We are outside the function blocks now**"
      ]
    },
    {
      "cell_type": "code",
      "execution_count": null,
      "id": "b4162a12",
      "metadata": {
        "id": "b4162a12",
        "outputId": "cae98840-e551-44a5-dbb2-7de584dd27a2"
      },
      "outputs": [
        {
          "name": "stdout",
          "output_type": "stream",
          "text": [
            "44.666250000000005\n",
            "36.564\n",
            "The pressure is 44.666250000000005\n",
            "The pressure is 36.564\n"
          ]
        }
      ],
      "source": [
        "pressure_1 = calculate_pressure(43, 8)\n",
        "pressure_2 = calculate_pressure (volume=15, temperature=66)\n",
        "\n",
        "print (pressure_1)\n",
        "print (pressure_2)\n",
        "\n",
        "calculate_pressure_and_print(temperature=43, volume=8)\n",
        "calculate_pressure_and_print(temperature=66, volume=15)"
      ]
    },
    {
      "cell_type": "markdown",
      "id": "f930b956",
      "metadata": {
        "id": "f930b956"
      },
      "source": [
        "### E3. Exercise: Implement a function area_of_circle\n",
        " - How many inputs do you need? One input\n",
        " - Write the function\n",
        " - Calculate area of circles with radii 20, 34, 5144, -3"
      ]
    },
    {
      "cell_type": "code",
      "source": [
        "# Calculate area of a circle\n",
        "def area_of_circle(radius):\n",
        "  '''\n",
        "  Inputs:\n",
        "        [1] radius, type <'float'>\n",
        "  Output:\n",
        "        None\n",
        "  '''\n",
        "  pi = 3.14\n",
        "  # restrict radii inputs to positive only\n",
        "  if (radius >= 0):\n",
        "    area = pi*radius**2\n",
        "    print(f\"The area of a circle with radius {radius} is {area}\")\n",
        "  else:\n",
        "    print(\"The radius of a circle cannot be negative\")\n",
        "\n"
      ],
      "metadata": {
        "id": "BZw_oMOHwLFd"
      },
      "id": "BZw_oMOHwLFd",
      "execution_count": null,
      "outputs": []
    },
    {
      "cell_type": "code",
      "source": [
        "area_of_circle(20)\n",
        "area_of_circle(34)\n",
        "area_of_circle(5144)\n",
        "area_of_circle(-3)"
      ],
      "metadata": {
        "colab": {
          "base_uri": "https://localhost:8080/"
        },
        "id": "IkU6W6zLxieI",
        "outputId": "999e6e07-c29f-4bb6-c9f0-975f3f3af36b"
      },
      "id": "IkU6W6zLxieI",
      "execution_count": null,
      "outputs": [
        {
          "output_type": "stream",
          "name": "stdout",
          "text": [
            "The area of a circle with radius 20 is 1256.0\n",
            "The area of a circle with radius 34 is 3629.84\n",
            "The area of a circle with radius 5144 is 83086711.04\n",
            "The radius of a circle cannot be negative\n"
          ]
        }
      ]
    },
    {
      "cell_type": "markdown",
      "id": "fe58af21",
      "metadata": {
        "id": "fe58af21"
      },
      "source": [
        "## 9. Control Structure\n",
        "- **Sequences**: One step after another, like the code we have written above\n",
        "- **Branching**: Selecting one choice from many based on a specific reason or condition\n",
        "- **Looping**: Doing something over and over again\n"
      ]
    },
    {
      "cell_type": "markdown",
      "id": "d7cc9c15",
      "metadata": {
        "id": "d7cc9c15"
      },
      "source": [
        "**Branching: Let's put a condition to check the inputs**"
      ]
    },
    {
      "cell_type": "code",
      "execution_count": null,
      "id": "0bc2c5ec",
      "metadata": {
        "id": "0bc2c5ec",
        "outputId": "7475fc5d-8768-41e2-c29e-fee63300132c"
      },
      "outputs": [
        {
          "name": "stdout",
          "output_type": "stream",
          "text": [
            "The pressure is 2000\n",
            "Volume can not be negative. Please provide a positive value for volume\n"
          ]
        }
      ],
      "source": [
        "def calculate_pressure_and_print_with_checks (temperature, volume):\n",
        "    '''\n",
        "    Inputs:\n",
        "        [1] temperatue, type <'int'>\n",
        "        [2] volume, type <float>\n",
        "    Output:\n",
        "        None\n",
        "    '''\n",
        "\n",
        "    gas_constant = 8.31\n",
        "\n",
        "    if (volume < 0):\n",
        "        print (\"Volume can not be negative. Please provide a positive value for volume\")\n",
        "    else:\n",
        "        pressure = temperature * volume\n",
        "        print(f\"The pressure is {pressure}\")\n",
        "\n",
        "# We are outside the function block\n",
        "calculate_pressure_and_print_with_checks(temperature = 100, volume = 20)\n",
        "calculate_pressure_and_print_with_checks(temperature = 100, volume = -3)"
      ]
    },
    {
      "cell_type": "markdown",
      "id": "fc02ff2e",
      "metadata": {
        "id": "fc02ff2e"
      },
      "source": [
        "### E4. Exercise: Calculate area of a circle but do not process negative radii\n"
      ]
    },
    {
      "cell_type": "markdown",
      "id": "51e271d5",
      "metadata": {
        "id": "51e271d5"
      },
      "source": [
        "**Branching with multiple conditions using AND and OR**\n",
        "\n",
        "**Criteria: both temperature and volume can not be negative**\n"
      ]
    },
    {
      "cell_type": "code",
      "execution_count": null,
      "id": "f2c2f57c",
      "metadata": {
        "id": "f2c2f57c"
      },
      "outputs": [],
      "source": [
        "def calculate_pressure_and_print_with_checks (temperature, volume):\n",
        "    '''\n",
        "    Inputs:\n",
        "        [1] temperatue, type <'int'>\n",
        "        [2] volume, type <float>\n",
        "    Output:\n",
        "        None\n",
        "    '''\n",
        "\n",
        "    gas_constant = 8.31\n",
        "\n",
        "    if (volume < 0 or temperature <0):\n",
        "        print (\"Neither temperature nor volume can be negative. Please provide a positive values\")\n",
        "    else:\n",
        "        pressure = temperature * volume\n",
        "        print(f\"The pressure is {pressure}\")"
      ]
    },
    {
      "cell_type": "code",
      "execution_count": null,
      "id": "ea9450c1",
      "metadata": {
        "scrolled": true,
        "id": "ea9450c1",
        "outputId": "c4bfa95c-509c-4b5b-9e5c-5f7c85ff78fa"
      },
      "outputs": [
        {
          "name": "stdout",
          "output_type": "stream",
          "text": [
            "Neither temperature nor volume can be negative. Please provide a positive values\n",
            "Neither temperature nor volume can be negative. Please provide a positive values\n",
            "Neither temperature nor volume can be negative. Please provide a positive values\n",
            "The pressure is 504\n"
          ]
        }
      ],
      "source": [
        "calculate_pressure_and_print_with_checks(temperature = 100, volume = -3)\n",
        "calculate_pressure_and_print_with_checks(temperature = -42, volume = 12)\n",
        "calculate_pressure_and_print_with_checks(temperature = -42, volume = -12)\n",
        "calculate_pressure_and_print_with_checks(temperature = 42, volume = 12)\n"
      ]
    },
    {
      "cell_type": "markdown",
      "id": "8cf8dd22",
      "metadata": {
        "id": "8cf8dd22"
      },
      "source": [
        "**Same program with AND operation**"
      ]
    },
    {
      "cell_type": "code",
      "execution_count": null,
      "id": "895608b2",
      "metadata": {
        "id": "895608b2",
        "outputId": "a40f669b-bd32-45f4-f839-099ba9f5bf3d"
      },
      "outputs": [
        {
          "name": "stdout",
          "output_type": "stream",
          "text": [
            "Neither temperature nor volume can be negative. Please provide a positive values\n",
            "Neither temperature nor volume can be negative. Please provide a positive values\n",
            "Neither temperature nor volume can be negative. Please provide a positive values\n",
            "The pressure is 504\n"
          ]
        }
      ],
      "source": [
        "def calculate_pressure_and_print_with_checks(temperature, volume):\n",
        "    '''\n",
        "    Inputs:\n",
        "        [1] temperatue, type <'int'>\n",
        "        [2] volume, type <float>\n",
        "    Output:\n",
        "        None\n",
        "    '''\n",
        "\n",
        "    gas_constant = 8.31\n",
        "\n",
        "    if (volume >= 0 and temperature >=0):\n",
        "        pressure = temperature * volume\n",
        "        print(f\"The pressure is {pressure}\")\n",
        "    else:\n",
        "        print (\"Neither temperature nor volume can be negative. Please provide a positive values\")\n",
        "\n",
        "calculate_pressure_and_print_with_checks(temperature = 100, volume = -3)\n",
        "calculate_pressure_and_print_with_checks(temperature = -42, volume = 12)\n",
        "calculate_pressure_and_print_with_checks(temperature = -42, volume = -12)\n",
        "calculate_pressure_and_print_with_checks(temperature = 42, volume = 12)"
      ]
    },
    {
      "cell_type": "markdown",
      "id": "9f3ba56d",
      "metadata": {
        "id": "9f3ba56d"
      },
      "source": [
        "## 10. Looping\n",
        "- Doing something over and over again\n",
        "- Used in combination with decision making\n",
        "    - Otherwise we loop forever\n",
        "    - This is called an “infinite loop”\n",
        "\n",
        "**Print numbers 1 to 20**"
      ]
    },
    {
      "cell_type": "code",
      "execution_count": null,
      "id": "34ab4693",
      "metadata": {
        "id": "34ab4693",
        "outputId": "098a23cf-0181-474d-894c-b406415641f1"
      },
      "outputs": [
        {
          "name": "stdout",
          "output_type": "stream",
          "text": [
            "1\n",
            "2\n",
            "3\n",
            "4\n",
            "5\n",
            "6\n",
            "7\n",
            "8\n",
            "9\n",
            "10\n",
            "11\n",
            "12\n",
            "13\n",
            "14\n",
            "15\n",
            "16\n",
            "17\n",
            "18\n",
            "19\n",
            "20\n"
          ]
        }
      ],
      "source": [
        "number = 1\n",
        "while number <=20:\n",
        "    print (number)\n",
        "    number = number +1"
      ]
    },
    {
      "cell_type": "markdown",
      "id": "d866539f",
      "metadata": {
        "id": "d866539f"
      },
      "source": [
        "### E5. Exercise: Loops\n",
        "1. Print numbers between 8 and 14 (including both 8 and 15)\n",
        "2. Loop through the numbers 1 to 20 and if a number is \"odd\" (i.e. not divisible by 2) only then print the number else ignore\n",
        "[Hint: if a number \"n\" is divisible by another number \"c\", then `n%c = 0`, in other words\n",
        "```\n",
        "if (n%c) != 0:\n",
        "  print(f\"The number {n} is not divisible by {c}\")\n",
        "```"
      ]
    },
    {
      "cell_type": "code",
      "source": [
        "# print numbers from 8 to 14\n",
        "num = 8\n",
        "while (num <= 14):\n",
        "  print(num)\n",
        "  num += 1"
      ],
      "metadata": {
        "colab": {
          "base_uri": "https://localhost:8080/"
        },
        "id": "mqH83KqgzpZA",
        "outputId": "39b238c0-b50c-4e99-e3fd-70f4f0e1597e"
      },
      "id": "mqH83KqgzpZA",
      "execution_count": null,
      "outputs": [
        {
          "output_type": "stream",
          "name": "stdout",
          "text": [
            "8\n",
            "9\n",
            "10\n",
            "11\n",
            "12\n",
            "13\n",
            "14\n"
          ]
        }
      ]
    },
    {
      "cell_type": "code",
      "source": [
        "# Print all odd numbers from 1 - 20\n",
        "num = 1\n",
        "while (num <= 20):\n",
        "  if (num%2 != 0):\n",
        "    print(num)\n",
        "    num += 1\n",
        "  else:\n",
        "    num += 1"
      ],
      "metadata": {
        "colab": {
          "base_uri": "https://localhost:8080/"
        },
        "id": "RlDLTToHz8pU",
        "outputId": "f0f782da-d604-4d16-a28a-dff3e0a23239"
      },
      "id": "RlDLTToHz8pU",
      "execution_count": null,
      "outputs": [
        {
          "output_type": "stream",
          "name": "stdout",
          "text": [
            "1\n",
            "3\n",
            "5\n",
            "7\n",
            "9\n",
            "11\n",
            "13\n",
            "15\n",
            "17\n",
            "19\n"
          ]
        }
      ]
    }
  ],
  "metadata": {
    "kernelspec": {
      "display_name": "Python 3 (ipykernel)",
      "language": "python",
      "name": "python3"
    },
    "language_info": {
      "codemirror_mode": {
        "name": "ipython",
        "version": 3
      },
      "file_extension": ".py",
      "mimetype": "text/x-python",
      "name": "python",
      "nbconvert_exporter": "python",
      "pygments_lexer": "ipython3",
      "version": "3.10.8"
    },
    "colab": {
      "provenance": [],
      "include_colab_link": true
    }
  },
  "nbformat": 4,
  "nbformat_minor": 5
}